{
  "nbformat": 4,
  "nbformat_minor": 0,
  "metadata": {
    "colab": {
      "provenance": []
    },
    "kernelspec": {
      "name": "python3",
      "display_name": "Python 3"
    },
    "language_info": {
      "name": "python"
    }
  },
  "cells": [
    {
      "cell_type": "markdown",
      "source": [
        "# Day 3"
      ],
      "metadata": {
        "id": "apYkXnPE660N"
      }
    },
    {
      "cell_type": "markdown",
      "source": [
        "### Use of Ternary Operator"
      ],
      "metadata": {
        "id": "Uw1086DB7G7g"
      }
    },
    {
      "cell_type": "code",
      "source": [
        "a , b = 10 , 20\n",
        "max = a if a > b else b\n",
        "print(max)"
      ],
      "metadata": {
        "colab": {
          "base_uri": "https://localhost:8080/"
        },
        "id": "wkLvjz_swM4O",
        "outputId": "496e6398-9892-44c3-857a-1584f3cc70a0"
      },
      "execution_count": null,
      "outputs": [
        {
          "output_type": "stream",
          "name": "stdout",
          "text": [
            "20\n"
          ]
        }
      ]
    },
    {
      "cell_type": "markdown",
      "source": [
        "### Membership Operators in Python"
      ],
      "metadata": {
        "id": "jogsdyw57O8H"
      }
    },
    {
      "cell_type": "code",
      "source": [
        "x = int(input(\"Enter value of x : \"))\n",
        "y = int(input(\"Enter value of y : \"))\n",
        "list = [10 , 20 , 30 , 40 , 50]\n",
        "if (x not in list):\n",
        "  print(\"x is NOT present in the given List\")\n",
        "else:\n",
        "  print(\"x is present in the given list\")\n",
        "\n",
        "if(y in list):\n",
        "  print(\"y is present in the given list\")\n",
        "else:\n",
        "  print(\"y is not present in the given list\")"
      ],
      "metadata": {
        "id": "MiYk5tfK7Nne",
        "colab": {
          "base_uri": "https://localhost:8080/"
        },
        "outputId": "3ad4f4c6-45ac-472e-954f-f2912e0011f2"
      },
      "execution_count": 5,
      "outputs": [
        {
          "output_type": "stream",
          "name": "stdout",
          "text": [
            "Enter value of x : 60\n",
            "Enter value of y : 40\n",
            "x is NOT present in the given List\n",
            "y is present in the given list\n"
          ]
        }
      ]
    },
    {
      "cell_type": "markdown",
      "source": [
        "### Operators Precedence in Python"
      ],
      "metadata": {
        "id": "KfdCz9547Wi-"
      }
    },
    {
      "cell_type": "code",
      "source": [
        "expr = 10 + 20*30\n",
        "print(expr)\n",
        "name = \"Navdeep\"\n",
        "age = 18\n",
        "if name == \"Navdeep\" or name == \"Kanish\":\n",
        "    print(\"Hello Welcome\")\n",
        "else:\n",
        "    print(\"Good Bye\")\n",
        "if name == \"Navdeep\" and name == \"Kanish\":\n",
        "    print(\"Hello Welcome\")\n",
        "else:\n",
        "    print(\"Good Bye\")\n",
        "if name == \"Navdeep\" or name == \"Kanish\" and age >=18:\n",
        "    print(\"Hello Welcome\")\n",
        "else:\n",
        "    print(\"Good Bye\")"
      ],
      "metadata": {
        "colab": {
          "base_uri": "https://localhost:8080/"
        },
        "id": "kbuaktc97VjT",
        "outputId": "dd0ef75c-7d0a-48b0-81ee-3fd436d94648"
      },
      "execution_count": null,
      "outputs": [
        {
          "output_type": "stream",
          "name": "stdout",
          "text": [
            "610\n",
            "Hello Welcome\n",
            "Good Bye\n",
            "Hello Welcome\n"
          ]
        }
      ]
    },
    {
      "cell_type": "markdown",
      "source": [
        "### Operator Associativity in Python"
      ],
      "metadata": {
        "id": "Jj982oQ97km6"
      }
    },
    {
      "cell_type": "code",
      "source": [
        "print(100/15*10)\n",
        "print(45-5+15)\n",
        "print(85-(25+34))\n",
        "print(3**2**4)"
      ],
      "metadata": {
        "id": "_6pHrBtm7kBQ"
      },
      "execution_count": null,
      "outputs": []
    },
    {
      "cell_type": "markdown",
      "source": [
        "#### Ques 1 - Write a difference between '=' & '==' with example."
      ],
      "metadata": {
        "id": "CB9Z0U337483"
      }
    },
    {
      "cell_type": "code",
      "source": [
        "# = (Assignment Operator) - used to assign a value to a variable\n",
        "# ==(Equality Operator) - Used to compare two values to check if they are equal.\n",
        "\n",
        "x = 5 # Assigns the value 5 to variable x\n",
        "\n",
        "#  Using '==' to compare values\n",
        "if x == 5:\n",
        "  print(\"x is equal to 5\")\n",
        "else:\n",
        "  print(\"x is not equal to 5\")"
      ],
      "metadata": {
        "id": "D3zxv5FK7seG",
        "colab": {
          "base_uri": "https://localhost:8080/"
        },
        "outputId": "81a3ccb3-28e6-456a-b16a-47db9a546e57"
      },
      "execution_count": null,
      "outputs": [
        {
          "output_type": "stream",
          "name": "stdout",
          "text": [
            "x is equal to 5\n"
          ]
        }
      ]
    },
    {
      "cell_type": "markdown",
      "source": [
        "#### Ques 2 - Write a example of membership Operator"
      ],
      "metadata": {
        "id": "buvqcHcn8GRJ"
      }
    },
    {
      "cell_type": "code",
      "source": [
        "fruits = [\"apple\" , \"banana\" , \"cherry\"]\n",
        "if \"banana\" in fruits:\n",
        "  print(\"banana is in the list\")\n",
        "else:\n",
        "  print(\"banana is not in the list\")"
      ],
      "metadata": {
        "id": "q1M27KqY8Lum",
        "colab": {
          "base_uri": "https://localhost:8080/"
        },
        "outputId": "f0cff8f5-db00-4e6b-bbc1-efea3ff23475"
      },
      "execution_count": null,
      "outputs": [
        {
          "output_type": "stream",
          "name": "stdout",
          "text": [
            "banana is in the list\n"
          ]
        }
      ]
    },
    {
      "cell_type": "markdown",
      "source": [
        "#### Ques 3 - Write a code of area of equilateral triangle ."
      ],
      "metadata": {
        "id": "EIGBXFku8MKq"
      }
    },
    {
      "cell_type": "code",
      "source": [
        "sqrt_3 = 1.732\n",
        "side = float(input(\"Enter the length of a side: \"))\n",
        "area = (sqrt_3 * (side ** 2))/4\n",
        "print(\"The area of the equilateral triangle is:\", area)"
      ],
      "metadata": {
        "id": "CSn5JOnc8Vvl",
        "colab": {
          "base_uri": "https://localhost:8080/"
        },
        "outputId": "a8032bb7-395f-41e5-b4ad-deb70bc5894b"
      },
      "execution_count": null,
      "outputs": [
        {
          "output_type": "stream",
          "name": "stdout",
          "text": [
            "Enter the length of a side: 5\n",
            "The area of the equilateral triangle is: 10.825\n"
          ]
        }
      ]
    },
    {
      "cell_type": "markdown",
      "source": [
        "#### Ques 4 - Write a Code of area of Rhombus ."
      ],
      "metadata": {
        "id": "bF7HWf8g8WUz"
      }
    },
    {
      "cell_type": "code",
      "source": [
        "d1 = float(input(\"Enter the length of the first diagonal: \"))\n",
        "d2 = float(input(\"Enter the length of the second diagonal: \"))\n",
        "area = (d1 * d2)/2\n",
        "print(\"The area of the rhombus is:\", area)"
      ],
      "metadata": {
        "id": "lge7GGyO8bDS",
        "colab": {
          "base_uri": "https://localhost:8080/"
        },
        "outputId": "c377e376-8cc5-401c-bc03-567222238507"
      },
      "execution_count": null,
      "outputs": [
        {
          "output_type": "stream",
          "name": "stdout",
          "text": [
            "Enter the length of the first diagonal: 8\n",
            "Enter the length of the second diagonal: 6\n",
            "The area of the rhombus is: 24.0\n"
          ]
        }
      ]
    },
    {
      "cell_type": "markdown",
      "source": [
        "#### Ques 5 - Write a code of comparing three numbers and display the largest middle and smallest"
      ],
      "metadata": {
        "id": "OmuHNB-28bsx"
      }
    },
    {
      "cell_type": "code",
      "source": [
        "a = float(input(\"Enter first number: \"))\n",
        "b = float(input(\"Enter second number: \"))\n",
        "c = float(input(\"Enter third number: \"))\n",
        "\n",
        "# Find largest\n",
        "if a >= b and a >= c:\n",
        "    largest = a\n",
        "    if b >= c:\n",
        "        middle = b\n",
        "        smallest = c\n",
        "    else:\n",
        "        middle = c\n",
        "        smallest = b\n",
        "elif b >= a and b >= c:\n",
        "    largest = b\n",
        "    if a >= c:\n",
        "        middle = a\n",
        "        smallest = c\n",
        "    else:\n",
        "        middle = c\n",
        "        smallest = a\n",
        "else:\n",
        "    largest = c\n",
        "    if a >= b:\n",
        "        middle = a\n",
        "        smallest = b\n",
        "    else:\n",
        "        middle = b\n",
        "        smallest = a\n",
        "\n",
        "# Display the result\n",
        "print(f\"Largest number: {largest}\")\n",
        "print(f\"Middle number: {middle}\")\n",
        "print(f\"Smallest number: {smallest}\")"
      ],
      "metadata": {
        "id": "-aZ6VSVi8meR",
        "colab": {
          "base_uri": "https://localhost:8080/"
        },
        "outputId": "db08987a-fb2a-44b4-c915-6636cbd53ae1"
      },
      "execution_count": null,
      "outputs": [
        {
          "output_type": "stream",
          "name": "stdout",
          "text": [
            "Enter first number: 45\n",
            "Enter second number: 856\n",
            "Enter third number: 2569\n",
            "Largest number: 2569.0\n",
            "Middle number: 856.0\n",
            "Smallest number: 45.0\n"
          ]
        }
      ]
    },
    {
      "cell_type": "markdown",
      "source": [
        "#### Ques 6 - Write a code of comparing 2 students with their details like name , course name , college name , email id , roll no ."
      ],
      "metadata": {
        "id": "ERiPzGKu8n-R"
      }
    },
    {
      "cell_type": "code",
      "source": [
        "def input_student_details(student_number):\n",
        "    print(f\"\\nEnter details for Student {student_number}:\")\n",
        "    student = {\n",
        "        'Name': input(\"Name: \"),\n",
        "        'Course Name': input(\"Course Name: \"),\n",
        "        'College Name': input(\"College Name: \"),\n",
        "        'Email ID': input(\"Email ID: \"),\n",
        "        'Roll Number': input(\"Roll Number: \")\n",
        "    }\n",
        "    return student\n",
        "\n",
        "def display_student_details(student, number):\n",
        "    print(f\"\\n--- Student {number} Details ---\")\n",
        "    for key, value in student.items():\n",
        "        print(f\"{key:12}: {value}\")\n",
        "    print(\"-\" * 30)\n",
        "\n",
        "student1 = input_student_details(1)\n",
        "student2 = input_student_details(2)\n",
        "\n",
        "display_student_details(student1, 1)\n",
        "display_student_details(student2, 2)\n",
        "\n",
        "# Compare selected fields (example: roll number, course, college)\n",
        "print(\"\\n--- Comparison Results ---\")\n",
        "if student1['Roll Number'] == student2['Roll Number']:\n",
        "    print(\"Both students have the same Roll Number.\")\n",
        "else:\n",
        "    print(\"Students have different Roll Numbers.\")\n",
        "\n",
        "if student1['Course Name'] == student2['Course Name']:\n",
        "    print(\"Both students are enrolled in the same course.\")\n",
        "else:\n",
        "    print(\"Students are enrolled in different courses.\")\n",
        "\n",
        "if student1['College Name'] == student2['College Name']:\n",
        "    print(\"Both students belong to the same college.\")\n",
        "else:\n",
        "    print(\"Students are from different colleges.\")\n"
      ],
      "metadata": {
        "id": "chaLFOvr86Ss",
        "colab": {
          "base_uri": "https://localhost:8080/"
        },
        "outputId": "cc16afef-c7b5-4d0a-b8e7-50db7b323053"
      },
      "execution_count": 3,
      "outputs": [
        {
          "output_type": "stream",
          "name": "stdout",
          "text": [
            "\n",
            "Enter details for Student 1:\n",
            "Name: Navdeep\n",
            "Course Name: B-tech Aids\n",
            "College Name: WCTM\n",
            "Email ID: navdeep@gmail.com\n",
            "Roll Number: 241080\n",
            "\n",
            "Enter details for Student 2:\n",
            "Name: Bharti\n",
            "Course Name: B-tech Aids\n",
            "College Name: WCTM\n",
            "Email ID: bharti@gmail.com\n",
            "Roll Number: 240234\n",
            "\n",
            "--- Student 1 Details ---\n",
            "Name        : Navdeep\n",
            "Course Name : B-tech Aids\n",
            "College Name: WCTM\n",
            "Email ID    : navdeep@gmail.com\n",
            "Roll Number : 241080\n",
            "------------------------------\n",
            "\n",
            "--- Student 2 Details ---\n",
            "Name        : Bharti\n",
            "Course Name : B-tech Aids\n",
            "College Name: WCTM\n",
            "Email ID    : bharti@gmail.com\n",
            "Roll Number : 240234\n",
            "------------------------------\n",
            "\n",
            "--- Comparison Results ---\n",
            "Students have different Roll Numbers.\n",
            "Both students are enrolled in the same course.\n",
            "Both students belong to the same college.\n"
          ]
        }
      ]
    },
    {
      "cell_type": "markdown",
      "source": [
        "#### Ques 7 - Write a code of listing the 10 students details with predefined the details in the code."
      ],
      "metadata": {
        "id": "gMNgFF3g88iq"
      }
    },
    {
      "cell_type": "code",
      "source": [
        "# Define a list of 10 students with their details\n",
        "students = [\n",
        "    {\"id\": 1, \"name\": \"Navdeep\", \"age\": 20, \"grade\": \"A\", \"email\": \"navdeep@example.com\"},\n",
        "    {\"id\": 2, \"name\": \"Bharti\", \"age\": 21, \"grade\": \"B\", \"email\": \"bharti@example.com\"},\n",
        "    {\"id\": 3, \"name\": \"Siddhant\", \"age\": 19, \"grade\": \"A-\", \"email\": \"siddhant@example.com\"},\n",
        "    {\"id\": 4, \"name\": \"Payal\", \"age\": 22, \"grade\": \"B+\", \"email\": \"payal@example.com\"},\n",
        "    {\"id\": 5, \"name\": \"Hariom\", \"age\": 20, \"grade\": \"A\", \"email\": \"hariom@example.com\"},\n",
        "    {\"id\": 6, \"name\": \"Shubham\", \"age\": 21, \"grade\": \"C+\", \"email\": \"shubham@example.com\"},\n",
        "    {\"id\": 7, \"name\": \"Aditya\", \"age\": 19, \"grade\": \"B\", \"email\": \"aditya@example.com\"},\n",
        "    {\"id\": 8, \"name\": \"Hannah Baker\", \"age\": 20, \"grade\": \"A-\", \"email\": \"hannah@example.com\"},\n",
        "    {\"id\": 9, \"name\": \"Hammad\", \"age\": 22, \"grade\": \"B+\", \"email\": \"hammad@example.com\"},\n",
        "    {\"id\": 10, \"name\": \"Mike\", \"age\": 21, \"grade\": \"A\", \"email\": \"mike@example.com\"}\n",
        "]\n",
        "\n",
        "# Print header\n",
        "print(\"{:<5} {:<20} {:<5} {:<5} {:<20}\".format(\"ID\", \"Name\", \"Age\", \"Grade\", \"Email\"))\n",
        "print(\"=\"*60)  # everything properly in the Tabular form.\n",
        "\n",
        "\n",
        "# Print each student's details\n",
        "for student in students:\n",
        "    print(\"{:<5} {:<20} {:<5} {:<5} {:<20}\".format(\n",
        "        student[\"id\"],\n",
        "        student[\"name\"],\n",
        "        student[\"age\"],\n",
        "        student[\"grade\"],\n",
        "        student[\"email\"]\n",
        "    ))"
      ],
      "metadata": {
        "id": "XuYZerbY9IEt",
        "colab": {
          "base_uri": "https://localhost:8080/"
        },
        "outputId": "714447ed-fb25-43d1-9217-04e732d3c14d"
      },
      "execution_count": 1,
      "outputs": [
        {
          "output_type": "stream",
          "name": "stdout",
          "text": [
            "ID    Name                 Age   Grade Email               \n",
            "============================================================\n",
            "1     Navdeep              20    A     navdeep@example.com \n",
            "2     Bharti               21    B     bharti@example.com  \n",
            "3     Siddhant             19    A-    siddhant@example.com\n",
            "4     Payal                22    B+    payal@example.com   \n",
            "5     Hariom               20    A     hariom@example.com  \n",
            "6     Shubham              21    C+    shubham@example.com \n",
            "7     Aditya               19    B     aditya@example.com  \n",
            "8     Hannah Baker         20    A-    hannah@example.com  \n",
            "9     Hammad               22    B+    hammad@example.com  \n",
            "10    Mike                 21    A     mike@example.com    \n"
          ]
        }
      ]
    },
    {
      "cell_type": "markdown",
      "source": [
        "#### Ques 8 - Write a code of using if else statement with while loop with example and also defination of all 3"
      ],
      "metadata": {
        "id": "c4quuVGP9I3g"
      }
    },
    {
      "cell_type": "code",
      "source": [
        "# Function to check if a number is positive, negative, or zero\n",
        "def check_number(num):\n",
        "    if num > 0:\n",
        "        return \"Positive\"\n",
        "    elif num < 0:\n",
        "        return \"Negative\"\n",
        "    else:\n",
        "        return \"Zero\"\n",
        "\n",
        "# Using a while loop to repeatedly ask for user input\n",
        "while True:\n",
        "    user_input = input(\"Enter a number (or 'quit' to exit): \")\n",
        "\n",
        "    # Check if the user wants to quit\n",
        "    if user_input.lower() == 'quit':\n",
        "        print(\"Exiting the program...\")\n",
        "        break  # Exit the loop\n",
        "\n",
        "    # Check if the input is a valid number\n",
        "    if user_input.isdigit() or (user_input.startswith('-') and user_input[1:].isdigit()):\n",
        "        number = int(user_input)\n",
        "        result = check_number(number)  # Call the function\n",
        "        print(f\"The number {number} is {result}.\")\n",
        "    else:\n",
        "        print(\"Invalid input! Please enter a number or 'quit'.\")"
      ],
      "metadata": {
        "id": "UaFDW_QQ9VTZ",
        "colab": {
          "base_uri": "https://localhost:8080/"
        },
        "outputId": "690faac2-fda7-4a12-95b9-47f63ab393eb"
      },
      "execution_count": 4,
      "outputs": [
        {
          "output_type": "stream",
          "name": "stdout",
          "text": [
            "Enter a number (or 'quit' to exit): 46\n",
            "The number 46 is Positive.\n",
            "Enter a number (or 'quit' to exit): quit\n",
            "Exiting the program...\n"
          ]
        }
      ]
    },
    {
      "cell_type": "markdown",
      "source": [
        "#### Ques 9 - Write a code like social media id password whether check the id password in this and display three name if the person is authentic"
      ],
      "metadata": {
        "id": "nf_SLsSH9X3e"
      }
    },
    {
      "cell_type": "code",
      "source": [
        "students = [\n",
        "    {\"Name\": \"Navdeep\",    \"Course\": \"BCA\",  \"College\": \"ABC College\", \"Email\": \"navdeep@example.com\",    \"Roll No\": \"101\"},\n",
        "    {\"Name\": \"Bharti\",      \"Course\": \"BSc\",  \"College\": \"XYZ College\", \"Email\": \"bharti@example.com\",      \"Roll No\": \"102\"},\n",
        "    {\"Name\": \"Siddhant\",  \"Course\": \"BA\",   \"College\": \"LMN College\", \"Email\": \"siddhant@example.com\",  \"Roll No\": \"103\"},\n",
        "    {\"Name\": \"Payal\",    \"Course\": \"BCom\", \"College\": \"ABC College\", \"Email\": \"payal@example.com\",    \"Roll No\": \"104\"},\n",
        "    {\"Name\": \"Hariom\",      \"Course\": \"BCA\",  \"College\": \"XYZ College\", \"Email\": \"hariom@example.com\",      \"Roll No\": \"105\"},\n",
        "    {\"Name\": \"Shubham\",    \"Course\": \"BSc\",  \"College\": \"LMN College\", \"Email\": \"shubham@example.com\",    \"Roll No\": \"106\"},\n",
        "    {\"Name\": \"Anshika\",    \"Course\": \"BA\",   \"College\": \"ABC College\", \"Email\": \"anshika@example.com\",    \"Roll No\": \"107\"},\n",
        "    {\"Name\": \"Hammad\",    \"Course\": \"BCom\", \"College\": \"XYZ College\", \"Email\": \"hammad@example.com\",    \"Roll No\": \"108\"},\n",
        "    {\"Name\": \"Aditya\",      \"Course\": \"BCA\",  \"College\": \"LMN College\", \"Email\": \"aditya@example.com\",      \"Roll No\": \"109\"},\n",
        "    {\"Name\": \"Mike\",     \"Course\": \"BSc\",  \"College\": \"ABC College\", \"Email\": \"mike@example.com\",     \"Roll No\": \"110\"}\n",
        "]\n",
        "\n",
        "# Print details of each student\n",
        "for i, student in enumerate(students, start=1):\n",
        "    print(f\"--- Student {i} Details ---\")\n",
        "    print(f\"Name       : {student['Name']}\")\n",
        "    print(f\"Course     : {student['Course']}\")\n",
        "    print(f\"College    : {student['College']}\")\n",
        "    print(f\"Email ID   : {student['Email']}\")\n",
        "    print(f\"Roll Number: {student['Roll No']}\")\n",
        "    print(\"-\" * 30)"
      ],
      "metadata": {
        "id": "TVzV9ZCq-BXS",
        "colab": {
          "base_uri": "https://localhost:8080/"
        },
        "outputId": "2756b56a-d5a3-4bff-8c59-8f92c119300e"
      },
      "execution_count": 2,
      "outputs": [
        {
          "output_type": "stream",
          "name": "stdout",
          "text": [
            "--- Student 1 Details ---\n",
            "Name       : Navdeep\n",
            "Course     : BCA\n",
            "College    : ABC College\n",
            "Email ID   : navdeep@example.com\n",
            "Roll Number: 101\n",
            "------------------------------\n",
            "--- Student 2 Details ---\n",
            "Name       : Bharti\n",
            "Course     : BSc\n",
            "College    : XYZ College\n",
            "Email ID   : bharti@example.com\n",
            "Roll Number: 102\n",
            "------------------------------\n",
            "--- Student 3 Details ---\n",
            "Name       : Siddhant\n",
            "Course     : BA\n",
            "College    : LMN College\n",
            "Email ID   : siddhant@example.com\n",
            "Roll Number: 103\n",
            "------------------------------\n",
            "--- Student 4 Details ---\n",
            "Name       : Payal\n",
            "Course     : BCom\n",
            "College    : ABC College\n",
            "Email ID   : payal@example.com\n",
            "Roll Number: 104\n",
            "------------------------------\n",
            "--- Student 5 Details ---\n",
            "Name       : Hariom\n",
            "Course     : BCA\n",
            "College    : XYZ College\n",
            "Email ID   : hariom@example.com\n",
            "Roll Number: 105\n",
            "------------------------------\n",
            "--- Student 6 Details ---\n",
            "Name       : Shubham\n",
            "Course     : BSc\n",
            "College    : LMN College\n",
            "Email ID   : shubham@example.com\n",
            "Roll Number: 106\n",
            "------------------------------\n",
            "--- Student 7 Details ---\n",
            "Name       : Anshika\n",
            "Course     : BA\n",
            "College    : ABC College\n",
            "Email ID   : anshika@example.com\n",
            "Roll Number: 107\n",
            "------------------------------\n",
            "--- Student 8 Details ---\n",
            "Name       : Hammad\n",
            "Course     : BCom\n",
            "College    : XYZ College\n",
            "Email ID   : hammad@example.com\n",
            "Roll Number: 108\n",
            "------------------------------\n",
            "--- Student 9 Details ---\n",
            "Name       : Aditya\n",
            "Course     : BCA\n",
            "College    : LMN College\n",
            "Email ID   : aditya@example.com\n",
            "Roll Number: 109\n",
            "------------------------------\n",
            "--- Student 10 Details ---\n",
            "Name       : Mike\n",
            "Course     : BSc\n",
            "College    : ABC College\n",
            "Email ID   : mike@example.com\n",
            "Roll Number: 110\n",
            "------------------------------\n"
          ]
        }
      ]
    },
    {
      "cell_type": "markdown",
      "source": [
        "#### Ques 10 - Write a code of making Calculator with diffrent cases of operators and with display result"
      ],
      "metadata": {
        "id": "Am_vfjQS-XNy"
      }
    },
    {
      "cell_type": "code",
      "source": [
        "def calculator():\n",
        "    print(\"Simple Calculator\")\n",
        "    print(\"Available operators: +, -, *, /, %, **\")\n",
        "\n",
        "    # Input numbers and operator\n",
        "    num1 = float(input(\"Enter first number: \"))\n",
        "    operator = input(\"Enter operator: \")\n",
        "    num2 = float(input(\"Enter second number: \"))\n",
        "\n",
        "    if operator == '+':\n",
        "        result = num1 + num2\n",
        "    elif operator == '-':\n",
        "        result = num1 - num2\n",
        "    elif operator == '*':\n",
        "        result = num1 * num2\n",
        "    elif operator == '/':\n",
        "        if num2 != 0:\n",
        "            result = num1 / num2\n",
        "        else:\n",
        "            print(\"Error: Division by zero is not allowed.\")\n",
        "            return\n",
        "    elif operator == '%':\n",
        "        if num2 != 0:\n",
        "            result = num1 % num2\n",
        "        else:\n",
        "            print(\"Error: Modulo by zero is not allowed.\")\n",
        "            return\n",
        "    elif operator == '**':\n",
        "        result = num1 ** num2\n",
        "    else:\n",
        "        print(\"Invalid operator!\")\n",
        "        return\n",
        "\n",
        "    print(f\"Result: {num1} {operator} {num2} = {result}\")\n",
        "\n",
        "# Run the calculator\n",
        "calculator()"
      ],
      "metadata": {
        "id": "yZsGfQgy-hcU",
        "colab": {
          "base_uri": "https://localhost:8080/"
        },
        "outputId": "46f330bc-d215-4885-dbbb-1d9ea5f8f1cb"
      },
      "execution_count": 6,
      "outputs": [
        {
          "output_type": "stream",
          "name": "stdout",
          "text": [
            "Simple Calculator\n",
            "Available operators: +, -, *, /, %, **\n",
            "Enter first number: 85\n",
            "Enter operator: /\n",
            "Enter second number: 54\n",
            "Result: 85.0 / 54.0 = 1.5740740740740742\n"
          ]
        }
      ]
    },
    {
      "cell_type": "markdown",
      "source": [
        "# List\n",
        "#### - ordered - Maintains element order\n",
        "#### - Mutable - Elements can be changed\n",
        "#### - Methods - append , pop , sort\n",
        "\n",
        "\n",
        "A list in Python is a collection of items that is ordered , mutable and can contain elements of diffrent data types(integers , strings , other lists , etc)\n",
        "\n",
        "#### pop() - removes last element(or at given index)\n",
        "#### sort() - sorts the list in place\n",
        "\n",
        "#### Notes: -append() -> Add element,\n",
        "pop() -> Removes element,\n",
        "sort() -> Arrange in order"
      ],
      "metadata": {
        "id": "jzzOwlT0iUnR"
      }
    },
    {
      "cell_type": "code",
      "source": [
        "my_list = [3 , 1 , 4]\n",
        "my_list.append(2)\n",
        "\n",
        "my_list.pop()\n",
        "my_list.pop(0)\n",
        "\n",
        "my_list.sort()"
      ],
      "metadata": {
        "id": "wSpCz_tojVCT"
      },
      "execution_count": null,
      "outputs": []
    },
    {
      "cell_type": "markdown",
      "source": [
        "# Tuples:\n",
        "\n",
        "#### -Orderd: Elements have a fixed order\n",
        "#### -Immutable: Cannot be changed after creation\n",
        "#### A tuple is a collection of items that is ordered and immutable.\n",
        "\n",
        "#### Notes:\n",
        "  ##### - use Parenthesis\n",
        "  ##### - Unpacking allows assigning each item to a variable\n",
        "\n"
      ],
      "metadata": {
        "id": "DPMDJQ5djVsZ"
      }
    },
    {
      "cell_type": "code",
      "source": [
        "# Creating a tuple\n",
        "my_tuple = (10 , 20 , 30)\n",
        "\n",
        "# Accesing elements\n",
        "print(my_tuple[1])\n",
        "\n",
        "# Tuple Unpacking\n",
        "a , b , c = my_tuple\n",
        "print(a , b , c)"
      ],
      "metadata": {
        "colab": {
          "base_uri": "https://localhost:8080/"
        },
        "id": "B4oW96P_kFYb",
        "outputId": "68cb5a1c-1e07-473d-f742-38992fce1046"
      },
      "execution_count": null,
      "outputs": [
        {
          "output_type": "stream",
          "name": "stdout",
          "text": [
            "20\n",
            "10 20 30\n"
          ]
        }
      ]
    },
    {
      "cell_type": "markdown",
      "source": [
        "# Sets :\n",
        "#### -Unorderd: No index or specific order\n",
        "#### - NO Duplicates: Each element is Unique\n",
        "\n",
        "A set is a built in data type in Python used to store unique Values.\n",
        "\n",
        "### Examples :\n",
        "#### -Creating Sets\n",
        "#### -Union\n",
        "#### -Intersection\n",
        "\n",
        "\n",
        "### Notes:\n",
        "#### - Use Curly braces{}\n",
        "#### - Fast membership testing\n",
        "#### - Use | for union, & for intersection"
      ],
      "metadata": {
        "id": "0roiJ9XSnPEo"
      }
    },
    {
      "cell_type": "code",
      "source": [
        "# Creating sets\n",
        "set_a = {1 , 2 , 3}\n",
        "set_b = {3 , 4 , 5}\n",
        "\n",
        "# Union\n",
        "print(set_a | set_b)\n",
        "\n",
        "# Intersection\n",
        "print(set_a & set_b)"
      ],
      "metadata": {
        "colab": {
          "base_uri": "https://localhost:8080/"
        },
        "id": "vwc9H13vkauT",
        "outputId": "178337d6-9e12-47a9-a95a-7163af76d22f"
      },
      "execution_count": null,
      "outputs": [
        {
          "output_type": "stream",
          "name": "stdout",
          "text": [
            "{1, 2, 3, 4, 5}\n",
            "{3}\n"
          ]
        }
      ]
    },
    {
      "cell_type": "markdown",
      "source": [
        "# Dictionaries:\n",
        "#### - Stores data as a key-value pairs\n",
        "#### - Unordered\n",
        "#### - Keys are unique\n",
        "#### - A dictionary is a collection of key value pairs used to store and retrieve data efficiently.\n",
        "### Examples & Methods\n",
        "\n",
        "student = {'name' : 'Navdeep' , 'age' : 20 , 'grade' : 'A'}\n",
        "\n",
        "\n",
        "#### get() - safe way to access values\n",
        "#### keys() - return all keys\n",
        "#### values() - returns all values\n",
        "\n",
        "#### Notes:\n",
        "- Use {} to define a dictionary\n",
        "- get() avoids KeyError\n",
        "- keys() and values() return views"
      ],
      "metadata": {
        "id": "4eeYLtlFoubd"
      }
    },
    {
      "cell_type": "code",
      "source": [
        "student = {'name' : 'Navdeep' , 'age' : 20 , 'grade' : 'A'}\n",
        "print(student.get('age'))\n",
        "print(student.keys())\n",
        "print(student.values())"
      ],
      "metadata": {
        "colab": {
          "base_uri": "https://localhost:8080/"
        },
        "id": "TLFBpMHr7m6-",
        "outputId": "54e4f1e2-cd56-43fd-c6f0-a4049daacf52"
      },
      "execution_count": null,
      "outputs": [
        {
          "output_type": "stream",
          "name": "stdout",
          "text": [
            "20\n",
            "dict_keys(['name', 'age', 'grade'])\n",
            "dict_values(['Navdeep', 20, 'A'])\n"
          ]
        }
      ]
    },
    {
      "cell_type": "markdown",
      "source": [
        "# Map , Filter , Reduce\n",
        "- map() : Applies a function to all items in a sequence\n",
        "- filter() : Filters items by condition\n",
        "- reduce() : Applies a function cumulatively( needs 'functools')\n",
        "\n",
        "#### Notes:\n",
        "- map() and filter() returns iterators - converts to 'list()'.\n",
        "- reduce() requires from functools import reduce\n",
        "- Useful in data processing Pipelines\n"
      ],
      "metadata": {
        "id": "1dO-qe2v8GY5"
      }
    },
    {
      "cell_type": "code",
      "source": [
        "from functools import reduce\n",
        "nums = [1,2,3,4]\n",
        "# map: square each number\n",
        "squares = list(map(lambda x: x**2 , nums))\n",
        "print(squares)\n",
        "# filter: keep even numbers\n",
        "evens = list(filter(lambda x: x%2 == 0 , nums))\n",
        "print(evens)\n",
        "# reduce: Sum all Numbers\n",
        "total = reduce(lambda x , y : x + y , nums)\n",
        "print(total)"
      ],
      "metadata": {
        "colab": {
          "base_uri": "https://localhost:8080/"
        },
        "id": "y_rFpjG69Jpg",
        "outputId": "0708b0ea-fbbd-407c-e6a0-9b7dbb1a7040"
      },
      "execution_count": null,
      "outputs": [
        {
          "output_type": "stream",
          "name": "stdout",
          "text": [
            "[1, 4, 9, 16]\n",
            "[2, 4]\n",
            "10\n"
          ]
        }
      ]
    }
  ]
}