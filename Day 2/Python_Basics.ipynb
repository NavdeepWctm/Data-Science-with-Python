{
  "nbformat": 4,
  "nbformat_minor": 0,
  "metadata": {
    "colab": {
      "provenance": []
    },
    "kernelspec": {
      "name": "python3",
      "display_name": "Python 3"
    },
    "language_info": {
      "name": "python"
    }
  },
  "cells": [
    {
      "cell_type": "markdown",
      "source": [
        "# Day 2"
      ],
      "metadata": {
        "id": "ShM_ZrhEw47H"
      }
    },
    {
      "cell_type": "markdown",
      "source": [
        "Ques 1- Write a code of first 20 numbers?"
      ],
      "metadata": {
        "id": "VxP21SQa1LmR"
      }
    },
    {
      "cell_type": "code",
      "source": [
        "for i in range(1,21,1):\n",
        "  print(i)"
      ],
      "metadata": {
        "colab": {
          "base_uri": "https://localhost:8080/"
        },
        "collapsed": true,
        "id": "oPPydMLm1Ug_",
        "outputId": "8e021830-2840-4b6e-8245-c3e87c2589df"
      },
      "execution_count": null,
      "outputs": [
        {
          "output_type": "stream",
          "name": "stdout",
          "text": [
            "1\n",
            "2\n",
            "3\n",
            "4\n",
            "5\n",
            "6\n",
            "7\n",
            "8\n",
            "9\n",
            "10\n",
            "11\n",
            "12\n",
            "13\n",
            "14\n",
            "15\n",
            "16\n",
            "17\n",
            "18\n",
            "19\n",
            "20\n"
          ]
        }
      ]
    },
    {
      "cell_type": "markdown",
      "source": [],
      "metadata": {
        "id": "dBZB7q5l1gx4"
      }
    },
    {
      "cell_type": "markdown",
      "source": [
        "Ques 2 - Write a code of table of 5."
      ],
      "metadata": {
        "id": "TNlvxkn91jPv"
      }
    },
    {
      "cell_type": "code",
      "source": [
        "i = 5\n",
        "for k in range(1 , 11 , 1):\n",
        "  print(i , '*' , k , ' = ' , i*k)"
      ],
      "metadata": {
        "colab": {
          "base_uri": "https://localhost:8080/"
        },
        "id": "3GKwj6hG2AWC",
        "outputId": "f728b071-136b-4149-e8cd-7137b6f83a8a"
      },
      "execution_count": null,
      "outputs": [
        {
          "output_type": "stream",
          "name": "stdout",
          "text": [
            "5 * 1  =  5\n",
            "5 * 2  =  10\n",
            "5 * 3  =  15\n",
            "5 * 4  =  20\n",
            "5 * 5  =  25\n",
            "5 * 6  =  30\n",
            "5 * 7  =  35\n",
            "5 * 8  =  40\n",
            "5 * 9  =  45\n",
            "5 * 10  =  50\n"
          ]
        }
      ]
    },
    {
      "cell_type": "markdown",
      "source": [
        "Ques 3 - Write a code to print vowels?"
      ],
      "metadata": {
        "id": "AzHCUiEI5Gsx"
      }
    },
    {
      "cell_type": "code",
      "source": [
        "string = input(\"Enter a string : \")\n",
        "vowels = \"AEIOUaeiou\"\n",
        "\n",
        "print(\"Vowels are : \")\n",
        "for ch in string :\n",
        "  if ch not in vowels:\n",
        "    print(ch)"
      ],
      "metadata": {
        "id": "QipUK_8a4to1",
        "colab": {
          "base_uri": "https://localhost:8080/"
        },
        "outputId": "4ab6b551-0077-4a70-b701-933d53e161e7"
      },
      "execution_count": null,
      "outputs": [
        {
          "output_type": "stream",
          "name": "stdout",
          "text": [
            "Enter a string : hello\n",
            "Vowels are : \n",
            "h\n",
            "l\n",
            "l\n"
          ]
        }
      ]
    },
    {
      "cell_type": "markdown",
      "source": [
        "Ques 4 - Write a code to print area of rectangle?"
      ],
      "metadata": {
        "id": "80cWwRWe5fTP"
      }
    },
    {
      "cell_type": "code",
      "source": [
        "length = float(input(\"Enter Length :\"))\n",
        "breadth = float(input(\"Enter breadth :\"))\n",
        "\n",
        "area = length * breadth\n",
        "print(\"Area of Rectangle = \" , area)"
      ],
      "metadata": {
        "colab": {
          "base_uri": "https://localhost:8080/"
        },
        "id": "rhc0cE3X5ocr",
        "outputId": "1b5287e6-61e8-4754-dd01-ca99e23c55ff"
      },
      "execution_count": null,
      "outputs": [
        {
          "output_type": "stream",
          "name": "stdout",
          "text": [
            "Enter Length :3\n",
            "Enter breadth :2\n",
            "Area of Rectangle =  6.0\n"
          ]
        }
      ]
    },
    {
      "cell_type": "markdown",
      "source": [
        "Ques 5 - Write a code to print area of circle? (area should be in decimals)"
      ],
      "metadata": {
        "id": "8yB1-rab5sqg"
      }
    },
    {
      "cell_type": "markdown",
      "source": [],
      "metadata": {
        "id": "9npLn0_m5o6Y"
      }
    },
    {
      "cell_type": "code",
      "source": [
        "radius = float(input(\"Enter Radius of circle\"))\n",
        "area = radius*radius\n",
        "return(\"Area of Circle :\" , area)"
      ],
      "metadata": {
        "id": "Z48g-qyU54Xd",
        "colab": {
          "base_uri": "https://localhost:8080/"
        },
        "outputId": "7ea02c1c-22c8-4b42-db93-a70934bc1bc8"
      },
      "execution_count": null,
      "outputs": [
        {
          "output_type": "stream",
          "name": "stdout",
          "text": [
            "Enter Radius of circle4\n",
            "Area of Circle : 16.0\n"
          ]
        }
      ]
    },
    {
      "cell_type": "markdown",
      "source": [
        "Ques 6 - Write a code to print your name Course name , College name and email address?"
      ],
      "metadata": {
        "id": "pEWCcYfO54yT"
      }
    },
    {
      "cell_type": "code",
      "source": [
        "Name = input(\"Enter Name : \")\n",
        "C_name = input (\"Course Name : \")\n",
        "College_Name = input(\"College Name : \")\n",
        "E_Mail = input(\"ENter E mail : \")\n",
        "print(Name)\n",
        "print(C_name)\n",
        "print(College_Name)\n",
        "print(E_Mail)"
      ],
      "metadata": {
        "id": "9TqkBYRc6DrI",
        "colab": {
          "base_uri": "https://localhost:8080/"
        },
        "outputId": "fb39b605-566b-4cf5-e65a-f42f5d44f890"
      },
      "execution_count": null,
      "outputs": [
        {
          "output_type": "stream",
          "name": "stdout",
          "text": [
            "Enter Name : Navdeep\n",
            "Course Name : AI-DS\n",
            "College Name : WCTM\n",
            "ENter E mail : navdeepwctmcse\n",
            "Navdeep\n",
            "AI-DS\n",
            "WCTM\n",
            "navdeepwctmcse\n"
          ]
        }
      ]
    },
    {
      "cell_type": "markdown",
      "source": [
        "Ques 7 - Write a code to print the all non vowel in a given string?(string is \"I am a Student of WCTM\")"
      ],
      "metadata": {
        "id": "mp1Zu_Dq6Egi"
      }
    },
    {
      "cell_type": "code",
      "source": [
        "string = \"I am a student of WCTM\"\n",
        "vowels = \"AEIOUaeiou\"\n",
        "for ch in string:\n",
        "  if ch not in vowels:\n",
        "    print(ch)\n"
      ],
      "metadata": {
        "id": "aILTFjgq6Xf-",
        "colab": {
          "base_uri": "https://localhost:8080/"
        },
        "outputId": "da1723fa-f3ea-47e2-bda1-f5c37fcca4ef"
      },
      "execution_count": null,
      "outputs": [
        {
          "output_type": "stream",
          "name": "stdout",
          "text": [
            " \n",
            "m\n",
            " \n",
            " \n",
            "s\n",
            "t\n",
            "d\n",
            "n\n",
            "t\n",
            " \n",
            "f\n",
            " \n",
            "W\n",
            "C\n",
            "T\n",
            "M\n",
            "\n"
          ]
        }
      ]
    },
    {
      "cell_type": "markdown",
      "source": [
        "Ques- 8 Write a code to display the defination of python with example?"
      ],
      "metadata": {
        "id": "StU3gtcL6X7j"
      }
    },
    {
      "cell_type": "code",
      "source": [
        "print(\"Python is a high-level, versatile, and interpreted programming language known for its readability and ease of use, making it popular for a wide range of applications.  \")"
      ],
      "metadata": {
        "id": "3b96gE9v6ojX",
        "colab": {
          "base_uri": "https://localhost:8080/"
        },
        "outputId": "00775375-fac0-464d-8077-2f9489e4ee3c"
      },
      "execution_count": null,
      "outputs": [
        {
          "output_type": "stream",
          "name": "stdout",
          "text": [
            "Python is a high-level, versatile, and interpreted programming language known for its readability and ease of use, making it popular for a wide range of applications.  \n"
          ]
        }
      ]
    },
    {
      "cell_type": "markdown",
      "source": [
        "Ques 9 Write a code to display the odd / even numbers\n"
      ],
      "metadata": {
        "id": "SpfqWnTX6pYw"
      }
    },
    {
      "cell_type": "code",
      "source": [
        "n = int(input(\"Enter a number\"))\n",
        "if(n%2==0):\n",
        "  print(n ,\" is a Even No.\")\n",
        "else:\n",
        "  print(n , \" is a Odd No.\")"
      ],
      "metadata": {
        "id": "-M45LLMH65E-",
        "colab": {
          "base_uri": "https://localhost:8080/"
        },
        "outputId": "df2a42b4-3346-48b6-c187-5fe36df680f6"
      },
      "execution_count": null,
      "outputs": [
        {
          "output_type": "stream",
          "name": "stdout",
          "text": [
            "Enter a number45\n",
            "45  is a Odd No.\n"
          ]
        }
      ]
    },
    {
      "cell_type": "markdown",
      "source": [
        "Ques 10 Write a code to show the largest number? (user input parameter a , b)"
      ],
      "metadata": {
        "id": "ue5Sv3dn65qs"
      }
    },
    {
      "cell_type": "code",
      "source": [
        "a = int(input(\"Enter First no.\"))\n",
        "b = int(input(\"Enter second no.\"))\n",
        "\n",
        "if(a>b):\n",
        "  print(a , \" is greater than \" , b)\n",
        "else:\n",
        "  print(b , \" is greater than \" , a)"
      ],
      "metadata": {
        "id": "iAl_sKCG7CeP",
        "colab": {
          "base_uri": "https://localhost:8080/"
        },
        "outputId": "08db8d84-8423-4074-9c86-baf96c71fa36"
      },
      "execution_count": null,
      "outputs": [
        {
          "output_type": "stream",
          "name": "stdout",
          "text": [
            "Enter First no.45\n",
            "Enter second no.87\n",
            "87  is greater than  45\n"
          ]
        }
      ]
    }
  ]
}